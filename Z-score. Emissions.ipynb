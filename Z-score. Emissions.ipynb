{
 "cells": [
  {
   "attachments": {},
   "cell_type": "markdown",
   "metadata": {},
   "source": [
    "# Тест по теме \"Z-оценка. Выбросы\"."
   ]
  },
  {
   "cell_type": "code",
   "execution_count": 15,
   "metadata": {},
   "outputs": [],
   "source": [
    "import pandas as pd\n",
    "import numpy as np\n",
    "from scipy.stats import zscore"
   ]
  },
  {
   "cell_type": "code",
   "execution_count": 16,
   "metadata": {},
   "outputs": [],
   "source": [
    "marvel_characters = pd.read_csv('Data/MarvelComicCaracters.csv', sep=';')"
   ]
  },
  {
   "attachments": {},
   "cell_type": "markdown",
   "metadata": {},
   "source": [
    "#### Функция по нахождению выбросов за границами основанными на полуторном интерквартильном размахе."
   ]
  },
  {
   "cell_type": "code",
   "execution_count": 17,
   "metadata": {},
   "outputs": [],
   "source": [
    "\n",
    "def outliers_iqr(original_dataframe, column_name, info='hide'):\n",
    "    \"\"\"Принимает датафрейм, название колонки и опциональный параметр вывода информации info=out.\n",
    "    \n",
    "    Откидывает пустые значения в заданной колонке.\n",
    "    Рассчитывает количество выбросов из полуторного интерквартильного размаха в заданной колонке,\n",
    "    выдаёт датафрейм с выбросами.\n",
    "    \"\"\"\n",
    "\n",
    "    dataframe = original_dataframe.copy()\n",
    "    # Избавляемся от пустых значений в рассматриваемой колонке\n",
    "    dataframe = dataframe.dropna(subset=[column_name])\n",
    "    median = dataframe[column_name].median()\n",
    "    q1 = dataframe[column_name].quantile(0.25)\n",
    "    q3 = dataframe[column_name].quantile(0.75)\n",
    "    iqr = q3 - q1\n",
    "    iqr_bound_botton = q1 - 1.5 * iqr\n",
    "    iqr_bound_top = q3 + 1.5 * iqr\n",
    "    \n",
    "    outliers_dataframe = dataframe[(dataframe[column_name] > iqr_bound_top) | (dataframe[column_name] < iqr_bound_botton)]\n",
    "\n",
    "    if info == 'out':\n",
    "        print(column_name)\n",
    "        print(f'Первый квартиль: {q1},'\n",
    "              f'\\nМедиана: {median},'\n",
    "              f'\\nТретий квартиль: {q3},'\n",
    "              f'\\nИнтерквартильный размах: {iqr},'\n",
    "              f'\\nВерхняя граница: {iqr_bound_top},'\n",
    "              f'\\nНижняя граница: {iqr_bound_botton}'\n",
    "              )\n",
    "        print(f'Количество выбросов по переменной {column_name}: {outliers_dataframe.shape[0]}\\n')\n",
    "\n",
    "    return outliers_dataframe"
   ]
  },
  {
   "attachments": {},
   "cell_type": "markdown",
   "metadata": {},
   "source": [
    "#### Функция по нахождению выбросов заданной переменной за границами трёх среднеквадратичных интервалов для переменных, представленных натуральными числами."
   ]
  },
  {
   "cell_type": "code",
   "execution_count": 18,
   "metadata": {},
   "outputs": [],
   "source": [
    "def outliers_std(original_dataframe, column_name, ddof=1, info='hide'):\n",
    "    \"\"\"Принимает датафрейм, название колонки, ddof и опциональный параметр вывода информации info=out. \n",
    "    \n",
    "    Откидывает пустые значения в заданной колонке.\n",
    "    Рассчитывает количество выбросов из трёх среднеквадратических отклонений в заданной колонке,\n",
    "    выдаёт датафрейм с выбросами.\n",
    "    \"\"\"\n",
    "    dataframe = original_dataframe.copy()\n",
    "    # Избавляемся от пустых значений в рассматриваемой колонке\n",
    "    dataframe = dataframe.dropna(subset=[column_name])\n",
    "    mean = dataframe[column_name].mean()\n",
    "    std = dataframe[column_name].std(ddof=ddof)\n",
    "    # В зависимости от ddof сообщаем для чего рассчитывается среднеквадратическое\n",
    "    # отклонение: для выборки, или для генеральной последовательности\n",
    "    if ddof == 0:\n",
    "        ddof_print = ' генеральной совокупности '\n",
    "    else:\n",
    "        ddof_print = ' выборки '\n",
    "    botton = mean - 3 * std\n",
    "    top = mean + 3 * std\n",
    "    \n",
    "    outliers_dataframe = dataframe[(dataframe[column_name] > top) | (dataframe[column_name] < botton)]\n",
    "\n",
    "    if info == 'out':\n",
    "        print(column_name)\n",
    "        print(f'Среднее: {mean},\\nСреднеквадратическое откл.{ddof_print}: {std},'\n",
    "              f'\\nВерхняя граница: {top},'\n",
    "              f'\\nНижняя граница: {botton}'\n",
    "              )\n",
    "        print(f'Количество выбросов по переменной {column_name}: {outliers_dataframe.shape[0]}\\n')\n",
    "\n",
    "    return outliers_dataframe"
   ]
  },
  {
   "attachments": {},
   "cell_type": "markdown",
   "metadata": {},
   "source": [
    "#### 1. Сколько пропущенных значений в переменной appearances? "
   ]
  },
  {
   "cell_type": "code",
   "execution_count": 19,
   "metadata": {},
   "outputs": [
    {
     "data": {
      "text/plain": [
       "1096"
      ]
     },
     "execution_count": 19,
     "metadata": {},
     "output_type": "execute_result"
    }
   ],
   "source": [
    "marvel_characters.isna().sum()['appearances']"
   ]
  },
  {
   "attachments": {},
   "cell_type": "markdown",
   "metadata": {},
   "source": [
    "#### 2. Укажите, верно ли следующее утверждение: наибольший межквартильный размах по переменной appearances будет для злых персонажей. Вам понадобятся данные по типу персонажа (переменная align), удалите пропущенные значения по столбцу appearances и посчитайте требуемую меру разброса.\n",
    "\n",
    "*Ответ: утверждение ложно*"
   ]
  },
  {
   "cell_type": "code",
   "execution_count": 20,
   "metadata": {},
   "outputs": [
    {
     "data": {
      "text/plain": [
       "align\n",
       "Добрый персонаж         13.0\n",
       "Злой персонаж            5.0\n",
       "Нейтральный персонаж     8.0\n",
       "NaN                      4.0\n",
       "Name: appearances, dtype: float64"
      ]
     },
     "metadata": {},
     "output_type": "display_data"
    }
   ],
   "source": [
    "marvel_characters_without_na_appearances = marvel_characters.dropna(subset=['appearances'])\n",
    "q1 = marvel_characters_without_na_appearances.groupby('align', dropna=False)['appearances'].quantile(0.25)\n",
    "q3 = marvel_characters_without_na_appearances.groupby('align', dropna=False)['appearances'].quantile(0.75)\n",
    "iqr = q3 - q1\n",
    "display(iqr)"
   ]
  },
  {
   "attachments": {},
   "cell_type": "markdown",
   "metadata": {},
   "source": [
    "#### 3. Сколько выбросов встречается по переменной appearances? Работайте с исходными данными, предварительно удалите пропущенные значения по столбцу appearances, используйте для нахождения выбросов межквартильный размах."
   ]
  },
  {
   "cell_type": "code",
   "execution_count": 21,
   "metadata": {},
   "outputs": [
    {
     "name": "stdout",
     "output_type": "stream",
     "text": [
      "appearances\n",
      "Первый квартиль: 1.0,\n",
      "Медиана: 3.0,\n",
      "Третий квартиль: 8.0,\n",
      "Интерквартильный размах: 7.0,\n",
      "Верхняя граница: 18.5,\n",
      "Нижняя граница: -9.5\n",
      "Количество выбросов по переменной appearances: 1938\n",
      "\n"
     ]
    },
    {
     "data": {
      "text/plain": [
       "1938"
      ]
     },
     "execution_count": 21,
     "metadata": {},
     "output_type": "execute_result"
    }
   ],
   "source": [
    "outliers_iqr(marvel_characters, 'appearances', 'out').shape[0]"
   ]
  },
  {
   "attachments": {},
   "cell_type": "markdown",
   "metadata": {},
   "source": [
    "#### 4. На основе данных, полученных в третьем номере, укажите, верно ли следующее утверждение: наибольшее количество выбросов по переменной appearances наблюдается у добрых персонажей.\n",
    "\n",
    "*Ответ: утверждение верно*"
   ]
  },
  {
   "cell_type": "code",
   "execution_count": 22,
   "metadata": {},
   "outputs": [
    {
     "data": {
      "text/plain": [
       "align\n",
       "Добрый персонаж         944\n",
       "Злой персонаж           551\n",
       "Нейтральный персонаж    285\n",
       "NaN                     158\n",
       "Name: appearances, dtype: int64"
      ]
     },
     "execution_count": 22,
     "metadata": {},
     "output_type": "execute_result"
    }
   ],
   "source": [
    "marvel_characters_without_na_appearances = marvel_characters.dropna(subset=['appearances'])\n",
    "marvel_characters_without_na_appearances[\n",
    "    # 18.5 - верхняя граница отсечения выбросов с помощью интерквартильного размаха,\n",
    "    # определённая в задании №3. \n",
    "    # Нижняя граница не имеет физического смысла, поэтому смотрим выбросы\n",
    "    # только за верхней границей.\n",
    "    marvel_characters_without_na_appearances['appearances'] > 18.5\n",
    "].groupby('align', dropna=False).count()['appearances']"
   ]
  },
  {
   "attachments": {},
   "cell_type": "markdown",
   "metadata": {},
   "source": [
    "#### 5. Создайте новую переменную, которая будет представлять собой прологарифмированную переменную appearances.\n",
    "##### Сколько выбросов получится по новой переменной? Работайте с исходными данными, предварительно удалите пропущенные значения по новому столбцу, используйте для нахождения выбросов три среднеквадратичных отклонения от среднего."
   ]
  },
  {
   "cell_type": "code",
   "execution_count": 23,
   "metadata": {},
   "outputs": [
    {
     "name": "stdout",
     "output_type": "stream",
     "text": [
      "log_appearances\n",
      "Среднее: 1.341357279949188,\n",
      "Среднеквадратическое откл. генеральной совокупности : 1.3444025706858918,\n",
      "Верхняя граница: 5.374564992006863,\n",
      "Нижняя граница: -2.6918504321084873\n",
      "Количество выбросов по переменной log_appearances: 195\n",
      "\n"
     ]
    },
    {
     "data": {
      "text/plain": [
       "195"
      ]
     },
     "execution_count": 23,
     "metadata": {},
     "output_type": "execute_result"
    }
   ],
   "source": [
    "marvel_characters_log = marvel_characters.copy()\n",
    "marvel_characters_log['log_appearances'] = np.log(marvel_characters_log['appearances'])\n",
    "# Работаем с генеральной совокупностью, поэтому третьим аргументом в функции будет ddof=0\n",
    "outliers_std(marvel_characters_log, 'log_appearances', ddof=0, info='out').shape[0]"
   ]
  },
  {
   "attachments": {},
   "cell_type": "markdown",
   "metadata": {},
   "source": [
    "#### 6. Сколько выбросов получится по переменной appearances? Работайте с исходными данными, предварительно удалите пропущенные значения по столбцу appearances, используйте для нахождения выбросов три среднеквадратичных отклонения от среднего. Введите ответ в виде целого числа."
   ]
  },
  {
   "cell_type": "code",
   "execution_count": 24,
   "metadata": {},
   "outputs": [
    {
     "name": "stdout",
     "output_type": "stream",
     "text": [
      "appearances\n",
      "Среднее: 17.033376963350786,\n",
      "Среднеквадратическое откл. генеральной совокупности : 96.36980575831078,\n",
      "Верхняя граница: 306.1427942382831,\n",
      "Нижняя граница: -272.0760403115815\n",
      "Количество выбросов по переменной appearances: 128\n",
      "\n"
     ]
    },
    {
     "data": {
      "text/plain": [
       "128"
      ]
     },
     "execution_count": 24,
     "metadata": {},
     "output_type": "execute_result"
    }
   ],
   "source": [
    "outliers_std(marvel_characters, 'appearances', ddof=0, info='out').shape[0]"
   ]
  },
  {
   "attachments": {},
   "cell_type": "markdown",
   "metadata": {},
   "source": [
    "#### 7. Сколько выбросов получится по переменной appearances, если выбраны только женские персонажи? Работайте с исходными данными, выберите женских персонажей, удалите пропущенные значения по столбцу appearances, используйте для нахождения выбросов z-оценку и три среднеквадратичных отклонения от среднего."
   ]
  },
  {
   "cell_type": "code",
   "execution_count": 25,
   "metadata": {},
   "outputs": [
    {
     "data": {
      "text/plain": [
       "48"
      ]
     },
     "execution_count": 25,
     "metadata": {},
     "output_type": "execute_result"
    }
   ],
   "source": [
    "girls = marvel_characters[marvel_characters['sex'] == 'Женский персонаж'].dropna(subset='appearances')\n",
    "girls['z-score appearances'] = zscore(girls['appearances'])\n",
    "\n",
    "girls[(girls['z-score appearances'] > 3) | (girls['z-score appearances'] < -3)].shape[0]"
   ]
  },
  {
   "attachments": {},
   "cell_type": "markdown",
   "metadata": {},
   "source": [
    "#### 8. Сравните среднее значение по переменной appearancs в двух датафреймах — без выбросов, определенных по межквартильному размаху, и без выбросов, определенных по трем среднеквадратичным отклонениям от среднего. Будем считать, что границы датафреймов без выбросов содержат значения верхних и нижних границ, определенных по межквартильному размаху или среднеквадратичному отклонению от среднего. В ответ запишите число (наибольшее среднее из двух), округлите до целого."
   ]
  },
  {
   "cell_type": "code",
   "execution_count": 26,
   "metadata": {},
   "outputs": [
    {
     "name": "stdout",
     "output_type": "stream",
     "text": [
      "11\n",
      "4\n"
     ]
    }
   ],
   "source": [
    "# Датафрейм без выбросов, определенный по трем среднеквадратичным отклонениям от среднего.\n",
    "marvel_characters_without_outliers_std = marvel_characters[\n",
    "    ~marvel_characters.isin(outliers_std(marvel_characters, 'appearances', ddof=0,))\n",
    "# Очистим датафрейм от строк с пустым значением 'appearances', чтобы он выглядел чище.\n",
    "# Это не влияет на результат функции mean(), так как она не учитывает пустые значения.\n",
    "].dropna(subset='appearances')\n",
    "\n",
    "print(\n",
    "    round(\n",
    "        marvel_characters_without_outliers_std['appearances'].mean()\n",
    "    )\n",
    ")\n",
    "\n",
    "# Датафрейм без выбросов, определенный по межквартильному размаху.\n",
    "# Находим датафрейм с выбросами через функцию и на его основе\n",
    "# делаем инвертированную маску.\n",
    "# Функция outliers_iqr относит к выбросам значения не включённые в границы,\n",
    "# за счёт строгих неравенств.\n",
    "marvel_characters_without_outliers_iqr = marvel_characters[\n",
    "    ~marvel_characters.isin(outliers_iqr(marvel_characters, 'appearances'))\n",
    "].dropna(subset='appearances')\n",
    "\n",
    "print(\n",
    "    round(\n",
    "        marvel_characters_without_outliers_iqr['appearances'].mean()\n",
    "    )\n",
    ")"
   ]
  },
  {
   "attachments": {},
   "cell_type": "markdown",
   "metadata": {},
   "source": [
    "#### 9. Укажите, верно ли следующее утверждение: в датафрейме для добрых женских персонажей мода по переменной hair не изменится, если удалить выбросы по переменной appearances. Работайте с исходными данными, предварительно удалите пропущенные значения по столбцу appearances, используйте для нахождения выбросов межквартильный размах.\n",
    "\n",
    "*Ответ: утверждение верно*"
   ]
  },
  {
   "cell_type": "code",
   "execution_count": 27,
   "metadata": {},
   "outputs": [
    {
     "data": {
      "text/plain": [
       "0    True\n",
       "Name: hair, dtype: bool"
      ]
     },
     "execution_count": 27,
     "metadata": {},
     "output_type": "execute_result"
    }
   ],
   "source": [
    "# Датафрейм с выбросами без пропущенных значений по столбцу 'appearances'\n",
    "marvel_characters_with_outliers = marvel_characters.copy().dropna(subset='appearances')\n",
    "\n",
    "# Сформируем маску для выборки женских добрых персонажей из датафрейма с выбросами.\n",
    "good_girls = (\n",
    "    (marvel_characters_with_outliers['sex'] == 'Женский персонаж')\n",
    "    & (marvel_characters_with_outliers['align'] == 'Добрый персонаж')\n",
    ")\n",
    "\n",
    "# Датафрейм без выбросов, в рамках, определённых полуторным интерквартильным размахом.\n",
    "# Находим датафрейм с выбросами через функцию и на его основе делаем инвертированную маску.\n",
    "marvel_characters_in_iqr = marvel_characters[\n",
    "    ~marvel_characters.isin(outliers_iqr(marvel_characters, 'appearances'))\n",
    "].dropna(subset='appearances')\n",
    "\n",
    "# Для чистоты вычислений найдём маску заново, но уже с учётом датафрейма без выбросов.\n",
    "good_girls_no_na =  (\n",
    "    (marvel_characters_in_iqr['sex'] == 'Женский персонаж')\n",
    "    & (marvel_characters_in_iqr['align'] == 'Добрый персонаж')\n",
    ")\n",
    "\n",
    "# Сравним моды датафрейов с выбросами и без выбросов по модам переменной 'hair' у добрых женских персонажей\n",
    "marvel_characters_with_outliers[good_girls]['hair'].mode() == marvel_characters_in_iqr[good_girls_no_na]['hair'].mode()"
   ]
  },
  {
   "attachments": {},
   "cell_type": "markdown",
   "metadata": {},
   "source": [
    "#### 10. Выберите только злых персонажей. Сравните медиану по переменной appearances в двух датафреймах — с выбросами и без выбросов, определенных по межквартильному размаху. В ответ запишите число (наибольшее среднее из двух), округлите до целого."
   ]
  },
  {
   "cell_type": "code",
   "execution_count": 28,
   "metadata": {},
   "outputs": [
    {
     "name": "stdout",
     "output_type": "stream",
     "text": [
      "3.0\n",
      "2.0\n"
     ]
    }
   ],
   "source": [
    "# Датафрейм с выбросами\n",
    "bad_guys = marvel_characters[marvel_characters['align'] == 'Злой персонаж']\n",
    "\n",
    "# Медиана датафрейма с выбросами\n",
    "print(bad_guys['appearances'].median())\n",
    "\n",
    "# Датафрейм без выбросов\n",
    "bad_guys_no_na = bad_guys[\n",
    "    ~bad_guys.isin(outliers_iqr(bad_guys, 'appearances'))\n",
    "]\n",
    "\n",
    "# Медиана датафрейма без выбросов\n",
    "print(bad_guys_no_na['appearances'].median())"
   ]
  }
 ],
 "metadata": {
  "kernelspec": {
   "display_name": "Python 3.10.6 64-bit",
   "language": "python",
   "name": "python3"
  },
  "language_info": {
   "codemirror_mode": {
    "name": "ipython",
    "version": 3
   },
   "file_extension": ".py",
   "mimetype": "text/x-python",
   "name": "python",
   "nbconvert_exporter": "python",
   "pygments_lexer": "ipython3",
   "version": "3.10.6"
  },
  "orig_nbformat": 4,
  "vscode": {
   "interpreter": {
    "hash": "5e555d800775171f2772fa73bb71873740e61409b38735336c7e9528f3f87003"
   }
  }
 },
 "nbformat": 4,
 "nbformat_minor": 2
}
