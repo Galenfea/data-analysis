{
 "cells": [
  {
   "attachments": {},
   "cell_type": "markdown",
   "metadata": {},
   "source": [
    "# Тест по теме \"Введение в тестирование гипотез. Непараметрические критерии\"."
   ]
  },
  {
   "cell_type": "code",
   "execution_count": 2,
   "metadata": {},
   "outputs": [],
   "source": [
    "import pandas as pd\n",
    "import numpy as np\n",
    "import scipy.stats"
   ]
  },
  {
   "cell_type": "code",
   "execution_count": 3,
   "metadata": {},
   "outputs": [],
   "source": [
    "starwars = pd.read_csv('data/StarWars.csv', sep=';')"
   ]
  },
  {
   "attachments": {},
   "cell_type": "markdown",
   "metadata": {},
   "source": [
    "#### Описание данных\n",
    "- respondentID — идентификационный номер респондента\n",
    "- seen — ответ на вопрос, видел ли респондент хотя бы один фильм из серии «Звездных войн» (да/нет)\n",
    "- fan — ответ на вопрос, считает ли респондент себя фанатом серии фильмов (да/нет)\n",
    "- gender — пол респондента (М/Ж)\n",
    "- age_group — возрастная группа, к которой принадлежит респондент (18-29, 30-44, 45-60, > 60)\n",
    "- income — доход респондента в долларах США (0 - 24.999, 25.000 - 49.999, 50.000 - 99.999, 100.000 - 149.999, 150.000+)-– loc — регион проживания респондента (в США)\n",
    "- yoda — отношение респондента к персонажу серии (Йоде)\n",
    "- princess_leia_organa — отношение респондента к персонажу серии (принцессе Лее Органе)"
   ]
  },
  {
   "attachments": {},
   "cell_type": "markdown",
   "metadata": {},
   "source": [
    "#### 1. Обратим внимание на переменные gender и fan. Какую гипотезу мы можем протестировать, используя хи-квадрат? Выберите один верный ответ.\n",
    "\n",
    "*Ответ: Распределение наблюдений по категориям выбранных переменных независимо.*"
   ]
  },
  {
   "attachments": {},
   "cell_type": "markdown",
   "metadata": {},
   "source": [
    "#### 2. Постройте таблицу сопряженности для переменных gender и fan. Укажите, верно ли следующее утверждение: 120 мужчин являются фанатами серии фильмов «Звездные войны».\n",
    "\n",
    "*Ответ: утверждение ложно.*"
   ]
  },
  {
   "cell_type": "code",
   "execution_count": 4,
   "metadata": {},
   "outputs": [
    {
     "data": {
      "text/html": [
       "<div>\n",
       "<style scoped>\n",
       "    .dataframe tbody tr th:only-of-type {\n",
       "        vertical-align: middle;\n",
       "    }\n",
       "\n",
       "    .dataframe tbody tr th {\n",
       "        vertical-align: top;\n",
       "    }\n",
       "\n",
       "    .dataframe thead th {\n",
       "        text-align: right;\n",
       "    }\n",
       "</style>\n",
       "<table border=\"1\" class=\"dataframe\">\n",
       "  <thead>\n",
       "    <tr style=\"text-align: right;\">\n",
       "      <th>fan</th>\n",
       "      <th>да</th>\n",
       "      <th>нет</th>\n",
       "    </tr>\n",
       "    <tr>\n",
       "      <th>gender</th>\n",
       "      <th></th>\n",
       "      <th></th>\n",
       "    </tr>\n",
       "  </thead>\n",
       "  <tbody>\n",
       "    <tr>\n",
       "      <th>Ж</th>\n",
       "      <td>238</td>\n",
       "      <td>159</td>\n",
       "    </tr>\n",
       "    <tr>\n",
       "      <th>М</th>\n",
       "      <td>303</td>\n",
       "      <td>120</td>\n",
       "    </tr>\n",
       "  </tbody>\n",
       "</table>\n",
       "</div>"
      ],
      "text/plain": [
       "fan      да  нет\n",
       "gender          \n",
       "Ж       238  159\n",
       "М       303  120"
      ]
     },
     "execution_count": 4,
     "metadata": {},
     "output_type": "execute_result"
    }
   ],
   "source": [
    "starwars.groupby('gender')['fan'].value_counts().unstack()"
   ]
  },
  {
   "attachments": {},
   "cell_type": "markdown",
   "metadata": {},
   "source": [
    "#### 3. Предположим, что мы тестируем гипотезу о том, что распределение наблюдений по категориям выбранных нами переменных независимо. Чему будет равно количество степеней свободы, рассчитанное по построенной в предыдущем задании таблице сопряженности? Выберите один верный ответ.\n",
    "\n",
    "*Ответ: $df = (2-1)*(2-1) = 1$.*"
   ]
  },
  {
   "attachments": {},
   "cell_type": "markdown",
   "metadata": {},
   "source": [
    "#### 4. Что означает равенство уровня значимости пяти процентам? Выберите один верный ответ.\n",
    "\n",
    "*Ответ: вероятность ошибки первого рода равна 5%.*"
   ]
  },
  {
   "attachments": {},
   "cell_type": "markdown",
   "metadata": {},
   "source": [
    "#### 5. Чему будет равно критическое значение критерия хи-квадрат для указанных выше параметров (уровня значимости 5% и верного числа степеней свободы), при котором мы сможем отвергнуть нулевую гипотезу? Выберите один верный ответ.\n",
    "*Ответ: $\\chi^2 = 3.84$.*\n",
    "\n",
    "##### Таблица соответствия значение $\\chi^2$ уровню статистической значимости и количеству степеней свободы. \n",
    "|df| $\\alpha = 0.1$ | $\\alpha = 0.05$ | $\\alpha = 0.025$ | $\\alpha = 0.01$ | $\\alpha = 0.005$ |\n",
    "|--|----------------|-----------------|------------------|-----------------|------------------|\n",
    "| 1|2.71|3.84|5.02|6.63|7.88|\n",
    "| 2|4.61|5.99|7.38|9.21|10.60|\n",
    "| 3|6.25|7.81|9.35|11.34|12.84|\n",
    "| 4|7.78|9.49|11.14|13.28|14.86|\n",
    "| 5|9.24|11.07|12.83|15.09|16.75|\n",
    "| 6|10.64|12.59|14.45|16.81|18.55|\n",
    "| 7|12.02|14.07|16.01|18.48|20.28|\n",
    "| 8|13.36|15.51|17.53|20.09|21.96|\n",
    "| 9|14.68|16.92|19.02|21.67|23.59|"
   ]
  },
  {
   "attachments": {},
   "cell_type": "markdown",
   "metadata": {},
   "source": [
    "##### 6. Чему равна оценка вероятности того, что человек является фанатом серии фильмов? Введите ответ в виде десятичной дроби, округлите до двух знаков после запятой.\n",
    "\n",
    "*Объяснение: точечная оценка вероятности по сути это частота появления события в наблюдаемых экспериментах.* \n",
    "\n",
    "*$P^*=\\sum(X_i)/N$, где N - общее число независимых экспериментов, а X - величина, которая в каждом эксперименте принимает значение либо 1 (если событие произошло), либо 0 (если событие не произошло).*\n",
    "\n",
    "*$P^* = 552/836 = 0,66$*\n",
    "\n",
    "*Ответ: 0.66*"
   ]
  },
  {
   "cell_type": "code",
   "execution_count": 5,
   "metadata": {},
   "outputs": [
    {
     "name": "stdout",
     "output_type": "stream",
     "text": [
      "0.66\n"
     ]
    }
   ],
   "source": [
    "# Избавимся от строк, которые не несут информации для рассчёта оценки вероятности.\n",
    "fan_or_not = starwars['fan'].dropna()\n",
    "# Найдём сколько раз респонденты отвечали, что они фанаты и сколько раз всего задавался вопрос,\n",
    "# частное этих значений и будет оценкой вероятности.\n",
    "print(round(fan_or_not.value_counts()['да']/fan_or_not.count(), 2))\n",
    "\n",
    "del fan_or_not"
   ]
  },
  {
   "attachments": {},
   "cell_type": "markdown",
   "metadata": {},
   "source": [
    "#### 7. Чему равна теоретическая частота для женщин, которые являются фанатами серии фильмов? В ответ запишите число, округлите до целого.\n",
    "\n",
    "*Ответ: 262*"
   ]
  },
  {
   "cell_type": "code",
   "execution_count": 6,
   "metadata": {},
   "outputs": [
    {
     "data": {
      "text/plain": [
       "262"
      ]
     },
     "execution_count": 6,
     "metadata": {},
     "output_type": "execute_result"
    }
   ],
   "source": [
    "round(scipy.stats.chi2_contingency(starwars.groupby('gender')['fan'].value_counts().unstack())[3][0][0])"
   ]
  },
  {
   "attachments": {},
   "cell_type": "markdown",
   "metadata": {},
   "source": [
    "#### 8. Чему равна теоретическая частота для мужчин, которые не являются фанатами серии фильмов? В ответ запишите число, округлите до целого.\n",
    "\n",
    "*Ответ: 144.*"
   ]
  },
  {
   "cell_type": "code",
   "execution_count": 7,
   "metadata": {},
   "outputs": [
    {
     "data": {
      "text/plain": [
       "144"
      ]
     },
     "execution_count": 7,
     "metadata": {},
     "output_type": "execute_result"
    }
   ],
   "source": [
    "round(scipy.stats.chi2_contingency(starwars.groupby('gender')['fan'].value_counts().unstack())[3][1][1])"
   ]
  },
  {
   "attachments": {},
   "cell_type": "markdown",
   "metadata": {},
   "source": [
    "#### 9. Чему равен критерий хи-квадрат? Введите ответ в виде десятичной дроби, округлите до двух знаков после запятой.\n",
    "\n",
    "*Ответ: 11.93 с коррекцией, 12.45 без коррекции. Правильно использовать значение 11.93, так как в нашем случае только одна степень свободы.*"
   ]
  },
  {
   "cell_type": "code",
   "execution_count": 8,
   "metadata": {},
   "outputs": [
    {
     "name": "stdout",
     "output_type": "stream",
     "text": [
      "11.93\n"
     ]
    }
   ],
   "source": [
    "print(round(scipy.stats.chi2_contingency(starwars.groupby('gender')['fan'].value_counts().unstack())[0], 2))"
   ]
  },
  {
   "attachments": {},
   "cell_type": "markdown",
   "metadata": {},
   "source": [
    "#### 10. Укажите, верно ли следующее утверждение: согласно всем проведенным в предыдущих заданиях вычислениям, хи-квадрат получился больше критического значения, значит нулевую гипотезу отвергаем.\n",
    "\n",
    "*Ответ: утверждение верно, в случае когда $\\chi^2$ больше критического значения, мы отвергаем нулевую гипотезу.*"
   ]
  },
  {
   "attachments": {},
   "cell_type": "markdown",
   "metadata": {},
   "source": [
    "$\\chi^2 = \\sum(f_o - f_e)^2/f_e$"
   ]
  },
  {
   "cell_type": "code",
   "execution_count": 9,
   "metadata": {},
   "outputs": [],
   "source": [
    "critical_value = 3.84"
   ]
  },
  {
   "attachments": {},
   "cell_type": "markdown",
   "metadata": {},
   "source": [
    "Способ I"
   ]
  },
  {
   "cell_type": "code",
   "execution_count": 10,
   "metadata": {},
   "outputs": [
    {
     "name": "stdout",
     "output_type": "stream",
     "text": [
      "True\n"
     ]
    }
   ],
   "source": [
    "f0 = starwars.groupby('gender')['fan'].value_counts().unstack().values\n",
    "fe = scipy.stats.chi2_contingency(starwars.groupby('gender')['fan'].value_counts().unstack())[3]\n",
    "\n",
    "chi2 = ((f0 - fe)**2 / fe).sum()\n",
    "print(chi2 > critical_value)\n",
    "\n",
    "del f0, fe, chi2"
   ]
  },
  {
   "attachments": {},
   "cell_type": "markdown",
   "metadata": {},
   "source": [
    "Способ II"
   ]
  },
  {
   "cell_type": "code",
   "execution_count": 11,
   "metadata": {},
   "outputs": [
    {
     "name": "stdout",
     "output_type": "stream",
     "text": [
      "True\n"
     ]
    }
   ],
   "source": [
    "chi2 = scipy.stats.chi2_contingency(starwars.groupby('gender')['fan'].value_counts().unstack())[0]\n",
    "print(chi2 > critical_value)\n",
    "\n",
    "del chi2, critical_value"
   ]
  }
 ],
 "metadata": {
  "kernelspec": {
   "display_name": "Python 3.10.6 64-bit",
   "language": "python",
   "name": "python3"
  },
  "language_info": {
   "codemirror_mode": {
    "name": "ipython",
    "version": 3
   },
   "file_extension": ".py",
   "mimetype": "text/x-python",
   "name": "python",
   "nbconvert_exporter": "python",
   "pygments_lexer": "ipython3",
   "version": "3.10.6"
  },
  "orig_nbformat": 4,
  "vscode": {
   "interpreter": {
    "hash": "5e555d800775171f2772fa73bb71873740e61409b38735336c7e9528f3f87003"
   }
  }
 },
 "nbformat": 4,
 "nbformat_minor": 2
}
