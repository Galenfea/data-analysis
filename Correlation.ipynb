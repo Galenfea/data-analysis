{
 "cells": [
  {
   "attachments": {},
   "cell_type": "markdown",
   "metadata": {},
   "source": [
    "# Тест по теме \"Корреляция\"."
   ]
  },
  {
   "cell_type": "code",
   "execution_count": 2,
   "metadata": {},
   "outputs": [],
   "source": [
    "import pandas as pd"
   ]
  },
  {
   "cell_type": "code",
   "execution_count": 3,
   "metadata": {},
   "outputs": [],
   "source": [
    "games = pd.read_csv('data/ScrabbleGames.csv')"
   ]
  },
  {
   "attachments": {},
   "cell_type": "markdown",
   "metadata": {},
   "source": [
    "#### 1. Сгруппируйте датафрейм по переменной tourneyid, затем определите тип взаимосвязи между средними значениями переменных winnerscore и winnernewrating.\n",
    "*Ответ: связь заметная обратная*"
   ]
  },
  {
   "cell_type": "code",
   "execution_count": 4,
   "metadata": {},
   "outputs": [
    {
     "data": {
      "text/plain": [
       "-0.6040132147335744"
      ]
     },
     "execution_count": 4,
     "metadata": {},
     "output_type": "execute_result"
    }
   ],
   "source": [
    "winner_score_rating =  games.groupby('tourneyid')[['winnerscore', 'winnernewrating']].mean()\n",
    "winner_score_rating['winnerscore'].corr(winner_score_rating['winnernewrating'])"
   ]
  },
  {
   "attachments": {},
   "cell_type": "markdown",
   "metadata": {},
   "source": [
    "#### 2. Укажите, верно ли следующее утверждение: очки, набранные победителем, напрямую и сильно зависят от очков, набранных проигравшим. Сгруппируйте датафрейм по переменной tourneyid и посмотрите на средние значения интересующих нас переменных.\n",
    "\n",
    "*Ответ: утверждение верно*"
   ]
  },
  {
   "cell_type": "code",
   "execution_count": 5,
   "metadata": {},
   "outputs": [
    {
     "data": {
      "text/plain": [
       "0.9999382016001124"
      ]
     },
     "execution_count": 5,
     "metadata": {},
     "output_type": "execute_result"
    }
   ],
   "source": [
    "winner_loser_score =  games.groupby('tourneyid')[['winnerscore', 'loserscore']].mean()\n",
    "winner_loser_score['winnerscore'].corr(winner_loser_score['loserscore'])"
   ]
  },
  {
   "attachments": {},
   "cell_type": "markdown",
   "metadata": {},
   "source": [
    "#### 3. Между какими переменными можно найти интерпретируемый коэффициент корреляции? Выберите один верный ответ.\n",
    "*Ответ: winnerpos и loserpos.*\n",
    "\n",
    "*Объяснение: id участников и игр интерпретируются скорее как категориальные переменные (хотя они и создают некоторый порядок), которые вряд ли как-либо влияют на игру, места проигравших или победивших в турнире, в свою очередь, вполне могут иметь корреляцию, так как за места ведётся конкуренция.*"
   ]
  },
  {
   "cell_type": "code",
   "execution_count": 28,
   "metadata": {},
   "outputs": [
    {
     "data": {
      "text/html": [
       "<div>\n",
       "<style scoped>\n",
       "    .dataframe tbody tr th:only-of-type {\n",
       "        vertical-align: middle;\n",
       "    }\n",
       "\n",
       "    .dataframe tbody tr th {\n",
       "        vertical-align: top;\n",
       "    }\n",
       "\n",
       "    .dataframe thead th {\n",
       "        text-align: right;\n",
       "    }\n",
       "</style>\n",
       "<table border=\"1\" class=\"dataframe\">\n",
       "  <thead>\n",
       "    <tr style=\"text-align: right;\">\n",
       "      <th></th>\n",
       "      <th>gameid</th>\n",
       "      <th>tie</th>\n",
       "      <th>winnerid</th>\n",
       "      <th>loserid</th>\n",
       "      <th>winnerpos</th>\n",
       "      <th>loserpos</th>\n",
       "    </tr>\n",
       "  </thead>\n",
       "  <tbody>\n",
       "    <tr>\n",
       "      <th>gameid</th>\n",
       "      <td>1.000000</td>\n",
       "      <td>0.011730</td>\n",
       "      <td>0.226863</td>\n",
       "      <td>0.250447</td>\n",
       "      <td>0.026757</td>\n",
       "      <td>0.031006</td>\n",
       "    </tr>\n",
       "    <tr>\n",
       "      <th>tie</th>\n",
       "      <td>0.011730</td>\n",
       "      <td>1.000000</td>\n",
       "      <td>-0.018818</td>\n",
       "      <td>0.012602</td>\n",
       "      <td>0.011076</td>\n",
       "      <td>-0.002666</td>\n",
       "    </tr>\n",
       "    <tr>\n",
       "      <th>winnerid</th>\n",
       "      <td>0.226863</td>\n",
       "      <td>-0.018818</td>\n",
       "      <td>1.000000</td>\n",
       "      <td>0.190702</td>\n",
       "      <td>0.026496</td>\n",
       "      <td>-0.011044</td>\n",
       "    </tr>\n",
       "    <tr>\n",
       "      <th>loserid</th>\n",
       "      <td>0.250447</td>\n",
       "      <td>0.012602</td>\n",
       "      <td>0.190702</td>\n",
       "      <td>1.000000</td>\n",
       "      <td>-0.005181</td>\n",
       "      <td>0.025844</td>\n",
       "    </tr>\n",
       "    <tr>\n",
       "      <th>winnerpos</th>\n",
       "      <td>0.026757</td>\n",
       "      <td>0.011076</td>\n",
       "      <td>0.026496</td>\n",
       "      <td>-0.005181</td>\n",
       "      <td>1.000000</td>\n",
       "      <td>0.772008</td>\n",
       "    </tr>\n",
       "    <tr>\n",
       "      <th>loserpos</th>\n",
       "      <td>0.031006</td>\n",
       "      <td>-0.002666</td>\n",
       "      <td>-0.011044</td>\n",
       "      <td>0.025844</td>\n",
       "      <td>0.772008</td>\n",
       "      <td>1.000000</td>\n",
       "    </tr>\n",
       "  </tbody>\n",
       "</table>\n",
       "</div>"
      ],
      "text/plain": [
       "             gameid       tie  winnerid   loserid  winnerpos  loserpos\n",
       "gameid     1.000000  0.011730  0.226863  0.250447   0.026757  0.031006\n",
       "tie        0.011730  1.000000 -0.018818  0.012602   0.011076 -0.002666\n",
       "winnerid   0.226863 -0.018818  1.000000  0.190702   0.026496 -0.011044\n",
       "loserid    0.250447  0.012602  0.190702  1.000000  -0.005181  0.025844\n",
       "winnerpos  0.026757  0.011076  0.026496 -0.005181   1.000000  0.772008\n",
       "loserpos   0.031006 -0.002666 -0.011044  0.025844   0.772008  1.000000"
      ]
     },
     "execution_count": 28,
     "metadata": {},
     "output_type": "execute_result"
    }
   ],
   "source": [
    "games[['gameid', 'tie', 'winnerid', 'loserid', 'winnerpos', 'loserpos']].corr()"
   ]
  },
  {
   "attachments": {},
   "cell_type": "markdown",
   "metadata": {},
   "source": [
    "#### 4. Что можно сказать по графику о взаимосвязи переменных winnerscore и winnernewrating?\n",
    "*Ответ: Связи практически нет*"
   ]
  },
  {
   "cell_type": "code",
   "execution_count": null,
   "metadata": {},
   "outputs": [
    {
     "name": "stderr",
     "output_type": "stream",
     "text": [
      "c:\\Users\\Galenfea\\AppData\\Local\\Programs\\Python\\Python310\\lib\\site-packages\\pandas\\plotting\\_matplotlib\\core.py:1114: UserWarning: No data for colormapping provided via 'c'. Parameters 'cmap' will be ignored\n",
      "  scatter = ax.scatter(\n"
     ]
    },
    {
     "data": {
      "text/plain": [
       "<AxesSubplot: xlabel='winnernewrating', ylabel='winnerscore'>"
      ]
     },
     "execution_count": 5,
     "metadata": {},
     "output_type": "execute_result"
    },
    {
     "data": {
      "image/png": "[encoded data removed]",
      "text/plain": [
       "<Figure size 640x480 with 1 Axes>"
      ]
     },
     "metadata": {},
     "output_type": "display_data"
    }
   ],
   "source": [
    "winner_score_rating = games[['winnerscore', 'winnernewrating']]\n",
    "winner_score_rating.plot('winnernewrating', 'winnerscore', kind='scatter')"
   ]
  },
  {
   "attachments": {},
   "cell_type": "markdown",
   "metadata": {},
   "source": [
    "#### 5. Сгруппируйте датафрейм по переменной tourneyid, затем рассчитайте коэффициент корреляции между средними значениями переменных winnernewrating и losernewrating. Введите ответ в виде десятичной дроби, округлите до двух знаков после запятой (например, 0.23); если связь обратная, не забудьте указать минус перед числом."
   ]
  },
  {
   "cell_type": "code",
   "execution_count": null,
   "metadata": {},
   "outputs": [
    {
     "data": {
      "text/plain": [
       "0.98"
      ]
     },
     "execution_count": 6,
     "metadata": {},
     "output_type": "execute_result"
    }
   ],
   "source": [
    "winner_loser_newrating = games.groupby('tourneyid')[['winnernewrating', 'losernewrating']].mean()\n",
    "\n",
    "round(winner_loser_newrating['winnernewrating'].corr(winner_loser_newrating['losernewrating']), 2)"
   ]
  },
  {
   "attachments": {},
   "cell_type": "markdown",
   "metadata": {},
   "source": [
    "#### 6. Выберите только первые раунды турнира, сгруппируйте датафрейм по переменной tourneyid, затем рассчитайте коэффициент корреляции между [средними значениями переменных?] winnerscore и loserscore. Введите ответ в виде десятичной дроби, [округлив?] до двух знаков после запятой (например, 0.29); если связь обратная, не забудьте указать минус перед числом."
   ]
  },
  {
   "cell_type": "code",
   "execution_count": 34,
   "metadata": {},
   "outputs": [
    {
     "data": {
      "text/plain": [
       "1.0"
      ]
     },
     "execution_count": 34,
     "metadata": {},
     "output_type": "execute_result"
    }
   ],
   "source": [
    "first_rounds = games[games['round'] == 1].groupby('tourneyid')[['winnerscore', 'loserscore']].mean()\n",
    "\n",
    "round(first_rounds['winnerscore'].corr(first_rounds['loserscore']), 2)"
   ]
  },
  {
   "attachments": {},
   "cell_type": "markdown",
   "metadata": {},
   "source": [
    "#### 7. Укажите, верно ли следующее утверждение: переменная tie не влияет на характер взаимосвязи между переменными winnernewrating и losernewrating. Сгруппируйте датафрейм по переменной tourneyid, затем рассчитайте коэффициент корреляции между средними значениями указанных переменных.\n",
    "*Ответ: утверждение верно.*"
   ]
  },
  {
   "cell_type": "code",
   "execution_count": 87,
   "metadata": {},
   "outputs": [
    {
     "name": "stdout",
     "output_type": "stream",
     "text": [
      "0.9782555275896676\n",
      "0.9233027219958259\n"
     ]
    }
   ],
   "source": [
    "tie_frame = games.groupby(['tourneyid', 'tie'], as_index=False)[['winnernewrating', 'losernewrating']].mean()\n",
    "# Сгруппировав по tourneyid, tie и избавившись от мультииндексности мы получили возможность\n",
    "# выявить коэффициент корреляции для средних за турнир значений переменных winnernewrating и losernewrating\n",
    "# для tie == 0 и для tie == 1\n",
    "print(tie_frame[tie_frame['tie'] == 0]['winnernewrating'].corr(tie_frame['losernewrating']))\n",
    "print(tie_frame[tie_frame['tie'] == 1]['winnernewrating'].corr(tie_frame['losernewrating']))"
   ]
  },
  {
   "attachments": {},
   "cell_type": "markdown",
   "metadata": {},
   "source": [
    "#### 8. Выберите самого часто встречающегося победителя (столбец winnername). Сгруппируйте датафрейм по переменной tourneyid, затем рассчитайте коэффициент корреляции между средними значениями переменных winnerscore и winneroldrating. Введите ответ в виде десятичной дроби, округлите до двух знаков после запятой; если связь обратная, не забудьте указать минус перед числом."
   ]
  },
  {
   "cell_type": "code",
   "execution_count": 43,
   "metadata": {},
   "outputs": [
    {
     "name": "stdout",
     "output_type": "stream",
     "text": [
      "Lester Schonbrun\n"
     ]
    },
    {
     "data": {
      "text/html": [
       "<div>\n",
       "<style scoped>\n",
       "    .dataframe tbody tr th:only-of-type {\n",
       "        vertical-align: middle;\n",
       "    }\n",
       "\n",
       "    .dataframe tbody tr th {\n",
       "        vertical-align: top;\n",
       "    }\n",
       "\n",
       "    .dataframe thead th {\n",
       "        text-align: right;\n",
       "    }\n",
       "</style>\n",
       "<table border=\"1\" class=\"dataframe\">\n",
       "  <thead>\n",
       "    <tr style=\"text-align: right;\">\n",
       "      <th></th>\n",
       "      <th>winnerscore</th>\n",
       "      <th>winneroldrating</th>\n",
       "    </tr>\n",
       "  </thead>\n",
       "  <tbody>\n",
       "    <tr>\n",
       "      <th>winnerscore</th>\n",
       "      <td>1.00</td>\n",
       "      <td>0.05</td>\n",
       "    </tr>\n",
       "    <tr>\n",
       "      <th>winneroldrating</th>\n",
       "      <td>0.05</td>\n",
       "      <td>1.00</td>\n",
       "    </tr>\n",
       "  </tbody>\n",
       "</table>\n",
       "</div>"
      ],
      "text/plain": [
       "                 winnerscore  winneroldrating\n",
       "winnerscore             1.00             0.05\n",
       "winneroldrating         0.05             1.00"
      ]
     },
     "execution_count": 43,
     "metadata": {},
     "output_type": "execute_result"
    }
   ],
   "source": [
    "most_frequent_winner = games['winnername'].value_counts().index[0]\n",
    "print(most_frequent_winner)\n",
    "round(\n",
    "    games[\n",
    "        games['winnername'] == most_frequent_winner\n",
    "    ].groupby('tourneyid')[['winnerscore', 'winneroldrating']].mean().corr(),\n",
    "    2\n",
    ")"
   ]
  },
  {
   "attachments": {},
   "cell_type": "markdown",
   "metadata": {},
   "source": [
    "#### 9. Укажите, верно ли следующее утверждение: характер взаимосвязи (прямая или обратная) между средними значениями переменных winnerscore и winneroldrating для победителя по имени Lester Schonbrun не отличается для такого же показателя для победителя по имени Stuart Goldman. Сгруппируйте датафрейм по переменной tourneyid, затем рассчитайте коэффициент корреляции между средними значениями указанных переменных.\n",
    "*Ответ: утверждение ложно.*"
   ]
  },
  {
   "cell_type": "code",
   "execution_count": null,
   "metadata": {},
   "outputs": [
    {
     "data": {
      "text/html": [
       "<div>\n",
       "<style scoped>\n",
       "    .dataframe tbody tr th:only-of-type {\n",
       "        vertical-align: middle;\n",
       "    }\n",
       "\n",
       "    .dataframe tbody tr th {\n",
       "        vertical-align: top;\n",
       "    }\n",
       "\n",
       "    .dataframe thead th {\n",
       "        text-align: right;\n",
       "    }\n",
       "</style>\n",
       "<table border=\"1\" class=\"dataframe\">\n",
       "  <thead>\n",
       "    <tr style=\"text-align: right;\">\n",
       "      <th></th>\n",
       "      <th>winnerscore</th>\n",
       "      <th>winneroldrating</th>\n",
       "    </tr>\n",
       "  </thead>\n",
       "  <tbody>\n",
       "    <tr>\n",
       "      <th>winnerscore</th>\n",
       "      <td>1.000000</td>\n",
       "      <td>-0.498531</td>\n",
       "    </tr>\n",
       "    <tr>\n",
       "      <th>winneroldrating</th>\n",
       "      <td>-0.498531</td>\n",
       "      <td>1.000000</td>\n",
       "    </tr>\n",
       "  </tbody>\n",
       "</table>\n",
       "</div>"
      ],
      "text/plain": [
       "                 winnerscore  winneroldrating\n",
       "winnerscore         1.000000        -0.498531\n",
       "winneroldrating    -0.498531         1.000000"
      ]
     },
     "execution_count": 10,
     "metadata": {},
     "output_type": "execute_result"
    }
   ],
   "source": [
    "# В предыдущей ячейке мы нашли коэффициенты корреляции тех же переменных но для Lester Schonbrun.\n",
    "# Для  Lester Schonbrun между переменными 'winnerscore' и 'winneroldrating' была прямая связь (хотя она почти отсутствовала).\n",
    "games[games['winnername'] == 'Stuart Goldman'].groupby('tourneyid')[['winnerscore', 'winneroldrating']].mean().corr()\n",
    "# Для Stuart Goldman эта связь обратная."
   ]
  },
  {
   "attachments": {},
   "cell_type": "markdown",
   "metadata": {},
   "source": [
    "#### 10. Выберите данные только за 4376 турнир (переменная tourneyid). Рассчитайте коэффициент корреляции между переменными winnerscore и loserscore. Введите ответ в виде десятичной дроби, округлите до двух знаков после запятой; если связь обратная, не забудьте указать минус перед числом."
   ]
  },
  {
   "cell_type": "code",
   "execution_count": 31,
   "metadata": {},
   "outputs": [
    {
     "data": {
      "text/plain": [
       "-0.25"
      ]
     },
     "execution_count": 31,
     "metadata": {},
     "output_type": "execute_result"
    }
   ],
   "source": [
    "turney_4376 = games[games['tourneyid'] == 4376]\n",
    "round(turney_4376['winnerscore'].corr(turney_4376['loserscore']), 2)"
   ]
  }
 ],
 "metadata": {
  "kernelspec": {
   "display_name": "Python 3.10.6 64-bit",
   "language": "python",
   "name": "python3"
  },
  "language_info": {
   "codemirror_mode": {
    "name": "ipython",
    "version": 3
   },
   "file_extension": ".py",
   "mimetype": "text/x-python",
   "name": "python",
   "nbconvert_exporter": "python",
   "pygments_lexer": "ipython3",
   "version": "3.10.6"
  },
  "orig_nbformat": 4,
  "vscode": {
   "interpreter": {
    "hash": "5e555d800775171f2772fa73bb71873740e61409b38735336c7e9528f3f87003"
   }
  }
 },
 "nbformat": 4,
 "nbformat_minor": 2
}
