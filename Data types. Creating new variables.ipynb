{
 "cells": [
  {
   "attachments": {},
   "cell_type": "markdown",
   "metadata": {},
   "source": [
    "# Тест по теме \"Типы данных. Создание новых переменных\"."
   ]
  },
  {
   "cell_type": "code",
   "execution_count": 124,
   "metadata": {},
   "outputs": [],
   "source": [
    "import pandas as pd"
   ]
  },
  {
   "cell_type": "code",
   "execution_count": 125,
   "metadata": {},
   "outputs": [],
   "source": [
    "star_wars = pd.read_csv('Data/starwars.csv', sep=';')"
   ]
  },
  {
   "attachments": {},
   "cell_type": "markdown",
   "metadata": {},
   "source": [
    "#### Все ли женщины старше 60 лет, входящие в категорию с наивысшим доходом и являющиеся фанатками серии фильмов, проживают в одном регионе?"
   ]
  },
  {
   "cell_type": "code",
   "execution_count": 126,
   "metadata": {},
   "outputs": [
    {
     "data": {
      "text/plain": [
       "162                  Тихоокеанский\n",
       "522    Северо-Западный центральный\n",
       "671                         Горный\n",
       "Name: loc, dtype: object"
      ]
     },
     "execution_count": 126,
     "metadata": {},
     "output_type": "execute_result"
    }
   ],
   "source": [
    "woman_60_maxincome_fan =  star_wars[(star_wars['gender'] == 'Ж') \n",
    "                          & (star_wars['age_group'] == '> 60')\n",
    "                          & (star_wars['income'] == '150.000+')\n",
    "                          & (star_wars['fan'] == 'да')\n",
    "                ]\n",
    "woman_60_maxincome_fan['loc']"
   ]
  },
  {
   "attachments": {},
   "cell_type": "markdown",
   "metadata": {},
   "source": [
    "### Какой регион проживания чаще всего встречается в данных?"
   ]
  },
  {
   "cell_type": "code",
   "execution_count": 127,
   "metadata": {},
   "outputs": [
    {
     "data": {
      "text/plain": [
       "Северо-Восточный центральный    181\n",
       "Тихоокеанский                   175\n",
       "Южно-Атлантический              170\n",
       "Средне-Атлантический            122\n",
       "Юго-Западный центральный        110\n",
       "Северо-Западный центральный      93\n",
       "Горный                           79\n",
       "Новая Англия                     75\n",
       "Юго-Восточный центральный        38\n",
       "Name: loc, dtype: int64"
      ]
     },
     "execution_count": 127,
     "metadata": {},
     "output_type": "execute_result"
    }
   ],
   "source": [
    "star_wars['loc'].value_counts()"
   ]
  },
  {
   "attachments": {},
   "cell_type": "markdown",
   "metadata": {},
   "source": [
    "#### Сколько респондентов не назвали свой доход?"
   ]
  },
  {
   "cell_type": "code",
   "execution_count": 128,
   "metadata": {},
   "outputs": [
    {
     "data": {
      "text/plain": [
       "328"
      ]
     },
     "execution_count": 128,
     "metadata": {},
     "output_type": "execute_result"
    }
   ],
   "source": [
    "star_wars['income'].isna().sum()"
   ]
  },
  {
   "attachments": {},
   "cell_type": "markdown",
   "metadata": {},
   "source": [
    "#### Скольким респондентам одновременно очень нравятся Йода и принцесса Лея Органа?"
   ]
  },
  {
   "cell_type": "code",
   "execution_count": 129,
   "metadata": {},
   "outputs": [
    {
     "data": {
      "text/plain": [
       "462"
      ]
     },
     "execution_count": 129,
     "metadata": {},
     "output_type": "execute_result"
    }
   ],
   "source": [
    "star_wars[(star_wars['yoda'] == 'очень нравится') & (star_wars['princess_leia_organa'] == 'очень нравится')].shape[0]"
   ]
  },
  {
   "attachments": {},
   "cell_type": "markdown",
   "metadata": {},
   "source": [
    "#### Сколько респондентов не видели ни одного фильма серии, но считают себя ее фанатами?"
   ]
  },
  {
   "cell_type": "code",
   "execution_count": 130,
   "metadata": {},
   "outputs": [
    {
     "data": {
      "text/plain": [
       "0"
      ]
     },
     "execution_count": 130,
     "metadata": {},
     "output_type": "execute_result"
    }
   ],
   "source": [
    "star_wars[(star_wars['seen'] == 'нет' ) & (star_wars['fan'] == 'да')].shape[0]"
   ]
  },
  {
   "attachments": {},
   "cell_type": "markdown",
   "metadata": {},
   "source": [
    "#### Сколько респондентов не ответили ни на один вопрос?"
   ]
  },
  {
   "cell_type": "code",
   "execution_count": 137,
   "metadata": {},
   "outputs": [
    {
     "data": {
      "text/plain": [
       "0"
      ]
     },
     "execution_count": 137,
     "metadata": {},
     "output_type": "execute_result"
    }
   ],
   "source": [
    "# получаем таблицу с одними ответами, без номера респондента\n",
    "all_questions = star_wars.drop(columns='respondentID')\n",
    "# выводим строки в которых все значения столбцов - NaN\n",
    "all_questions[all_questions.isna().all(axis=1)].shape[0]"
   ]
  },
  {
   "attachments": {},
   "cell_type": "markdown",
   "metadata": {},
   "source": [
    "#### Посмотрите на мужчин, проживающих в горном районе. В ответ запишите ID респондента, входящего в категорию с наивысшим доходом при заданных условиях."
   ]
  },
  {
   "cell_type": "code",
   "execution_count": 133,
   "metadata": {},
   "outputs": [
    {
     "data": {
      "text/html": [
       "<div>\n",
       "<style scoped>\n",
       "    .dataframe tbody tr th:only-of-type {\n",
       "        vertical-align: middle;\n",
       "    }\n",
       "\n",
       "    .dataframe tbody tr th {\n",
       "        vertical-align: top;\n",
       "    }\n",
       "\n",
       "    .dataframe thead th {\n",
       "        text-align: right;\n",
       "    }\n",
       "</style>\n",
       "<table border=\"1\" class=\"dataframe\">\n",
       "  <thead>\n",
       "    <tr style=\"text-align: right;\">\n",
       "      <th></th>\n",
       "      <th>respondentID</th>\n",
       "      <th>seen</th>\n",
       "      <th>fan</th>\n",
       "      <th>gender</th>\n",
       "      <th>age_group</th>\n",
       "      <th>income</th>\n",
       "      <th>loc</th>\n",
       "      <th>yoda</th>\n",
       "      <th>princess_leia_organa</th>\n",
       "    </tr>\n",
       "  </thead>\n",
       "  <tbody>\n",
       "    <tr>\n",
       "      <th>169</th>\n",
       "      <td>3291077381</td>\n",
       "      <td>да</td>\n",
       "      <td>нет</td>\n",
       "      <td>М</td>\n",
       "      <td>45-60</td>\n",
       "      <td>150.000+</td>\n",
       "      <td>Горный</td>\n",
       "      <td>нравится</td>\n",
       "      <td>отношусь нейтрально</td>\n",
       "    </tr>\n",
       "  </tbody>\n",
       "</table>\n",
       "</div>"
      ],
      "text/plain": [
       "     respondentID seen  fan gender age_group    income     loc      yoda  \\\n",
       "169    3291077381   да  нет      М     45-60  150.000+  Горный  нравится   \n",
       "\n",
       "    princess_leia_organa  \n",
       "169  отношусь нейтрально  "
      ]
     },
     "execution_count": 133,
     "metadata": {},
     "output_type": "execute_result"
    }
   ],
   "source": [
    "star_wars[(star_wars['gender'] == 'М') & (star_wars['loc'] == 'Горный') & (star_wars['income'] == '150.000+')]"
   ]
  },
  {
   "attachments": {},
   "cell_type": "markdown",
   "metadata": {},
   "source": [
    "#### Укажите, верно ли следующее утверждение: фанатов серии фильмов в возрастной категории 45-60 меньше, чем не-фанатов в возрастной категории 18-29."
   ]
  },
  {
   "cell_type": "code",
   "execution_count": 134,
   "metadata": {},
   "outputs": [
    {
     "name": "stdout",
     "output_type": "stream",
     "text": [
      "Фанатов в возрасте 45-60 - 154, а не фанатов в возрасте 18-29 - 56\n",
      "Утверждение - False\n"
     ]
    }
   ],
   "source": [
    "fans_45_60 = star_wars[(star_wars['fan'] == 'да') & (star_wars['age_group'] == '45-60')].shape[0]\n",
    "nonfans_18_29 = star_wars[(star_wars['fan'] == 'нет') & (star_wars['age_group'] == '18-29')].shape[0]\n",
    "print(f'Фанатов в возрасте 45-60 - {fans_45_60}, а не фанатов в возрасте 18-29 - {nonfans_18_29}')\n",
    "print('Утверждение -', fans_45_60 < nonfans_18_29)"
   ]
  },
  {
   "attachments": {},
   "cell_type": "markdown",
   "metadata": {},
   "source": [
    "#### Сколько процентов (от общего числа респондентов) являются фанатами серии фильмов, проживают в Новой Англии и имеют доход 0 - 24.999 долларов?"
   ]
  },
  {
   "cell_type": "code",
   "execution_count": 135,
   "metadata": {},
   "outputs": [
    {
     "data": {
      "text/plain": [
       "1"
      ]
     },
     "execution_count": 135,
     "metadata": {},
     "output_type": "execute_result"
    }
   ],
   "source": [
    "fan_low_income_new_england = star_wars[(star_wars['fan'] == 'да')\n",
    "                                       &(star_wars['loc'] == 'Новая Англия')\n",
    "                                       &(star_wars['income'] == '0 - 24.999')\n",
    "                                       ].shape[0]\n",
    "round((fan_low_income_new_england / star_wars.shape[0]) * 100)"
   ]
  }
 ],
 "metadata": {
  "kernelspec": {
   "display_name": "Python 3.10.6 64-bit",
   "language": "python",
   "name": "python3"
  },
  "language_info": {
   "codemirror_mode": {
    "name": "ipython",
    "version": 3
   },
   "file_extension": ".py",
   "mimetype": "text/x-python",
   "name": "python",
   "nbconvert_exporter": "python",
   "pygments_lexer": "ipython3",
   "version": "3.10.6"
  },
  "orig_nbformat": 4,
  "vscode": {
   "interpreter": {
    "hash": "5e555d800775171f2772fa73bb71873740e61409b38735336c7e9528f3f87003"
   }
  }
 },
 "nbformat": 4,
 "nbformat_minor": 2
}
